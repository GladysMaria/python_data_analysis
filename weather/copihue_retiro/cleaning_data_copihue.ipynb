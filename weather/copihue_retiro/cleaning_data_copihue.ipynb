{
 "cells": [
  {
   "cell_type": "markdown",
   "id": "8439e1e1-3c43-4fb1-8922-6495b31f3a8f",
   "metadata": {},
   "source": [
    "# Data Cleaning"
   ]
  },
  {
   "cell_type": "markdown",
   "id": "761162cc-153c-4528-a0c2-d8156287331e",
   "metadata": {},
   "source": [
    "## Import libraries:"
   ]
  },
  {
   "cell_type": "code",
   "execution_count": 1,
   "id": "d52dbe35-e903-43f4-a40f-5b848c935097",
   "metadata": {},
   "outputs": [],
   "source": [
    "import pandas as pd\n",
    "import matplotlib.pyplot as plt"
   ]
  },
  {
   "cell_type": "markdown",
   "id": "d2654ef5-ea03-4856-9fa6-0ad14d18b76d",
   "metadata": {},
   "source": [
    "## Read file:"
   ]
  },
  {
   "cell_type": "code",
   "execution_count": 542,
   "id": "3f5c7b45-3510-4ba7-9689-54fbae6caa23",
   "metadata": {},
   "outputs": [],
   "source": [
    "df= pd.read_csv(\"data/agrometeorologia-20240707111151.csv\")"
   ]
  },
  {
   "cell_type": "markdown",
   "id": "06b1835e-5e9a-4cad-ba98-7be2b6f20a4f",
   "metadata": {},
   "source": [
    "### Dataset overview:"
   ]
  },
  {
   "cell_type": "code",
   "execution_count": 544,
   "id": "b8f8f7c4-bef7-4164-9bb3-89eacbcbfb28",
   "metadata": {},
   "outputs": [
    {
     "data": {
      "text/html": [
       "<div>\n",
       "<style scoped>\n",
       "    .dataframe tbody tr th:only-of-type {\n",
       "        vertical-align: middle;\n",
       "    }\n",
       "\n",
       "    .dataframe tbody tr th {\n",
       "        vertical-align: top;\n",
       "    }\n",
       "\n",
       "    .dataframe thead th {\n",
       "        text-align: right;\n",
       "    }\n",
       "</style>\n",
       "<table border=\"1\" class=\"dataframe\">\n",
       "  <thead>\n",
       "    <tr style=\"text-align: right;\">\n",
       "      <th></th>\n",
       "      <th>www.agrometeorologia.cl</th>\n",
       "      <th>Unnamed: 1</th>\n",
       "      <th>Unnamed: 2</th>\n",
       "      <th>Unnamed: 3</th>\n",
       "      <th>Unnamed: 4</th>\n",
       "      <th>Unnamed: 5</th>\n",
       "      <th>Unnamed: 6</th>\n",
       "      <th>Unnamed: 7</th>\n",
       "      <th>Unnamed: 8</th>\n",
       "    </tr>\n",
       "  </thead>\n",
       "  <tbody>\n",
       "    <tr>\n",
       "      <th>0</th>\n",
       "      <td>Red Agrometeorológica de INIA</td>\n",
       "      <td>NaN</td>\n",
       "      <td>NaN</td>\n",
       "      <td>NaN</td>\n",
       "      <td>NaN</td>\n",
       "      <td>NaN</td>\n",
       "      <td>NaN</td>\n",
       "      <td>NaN</td>\n",
       "      <td>NaN</td>\n",
       "    </tr>\n",
       "    <tr>\n",
       "      <th>1</th>\n",
       "      <td>Generado el 07-07-2024 11:11:51</td>\n",
       "      <td>NaN</td>\n",
       "      <td>NaN</td>\n",
       "      <td>NaN</td>\n",
       "      <td>NaN</td>\n",
       "      <td>NaN</td>\n",
       "      <td>NaN</td>\n",
       "      <td>NaN</td>\n",
       "      <td>NaN</td>\n",
       "    </tr>\n",
       "    <tr>\n",
       "      <th>2</th>\n",
       "      <td>Copihue, Retiro</td>\n",
       "      <td>NaN</td>\n",
       "      <td>NaN</td>\n",
       "      <td>NaN</td>\n",
       "      <td>NaN</td>\n",
       "      <td>NaN</td>\n",
       "      <td>NaN</td>\n",
       "      <td>NaN</td>\n",
       "      <td>NaN</td>\n",
       "    </tr>\n",
       "    <tr>\n",
       "      <th>3</th>\n",
       "      <td>NaN</td>\n",
       "      <td>NaN</td>\n",
       "      <td>NaN</td>\n",
       "      <td>NaN</td>\n",
       "      <td>NaN</td>\n",
       "      <td>NaN</td>\n",
       "      <td>NaN</td>\n",
       "      <td>NaN</td>\n",
       "      <td>NaN</td>\n",
       "    </tr>\n",
       "    <tr>\n",
       "      <th>4</th>\n",
       "      <td>Tiempo UTC-4</td>\n",
       "      <td>Temperatura del Aire ºC</td>\n",
       "      <td>Temperatura del Aire Mínima ºC</td>\n",
       "      <td>Temperatura del Aire Máxima ºC</td>\n",
       "      <td>Precipitación Acumulada mm</td>\n",
       "      <td>Temperatura del Aire % de datos</td>\n",
       "      <td>Temperatura del Aire Mínima % de datos</td>\n",
       "      <td>Temperatura del Aire Máxima % de datos</td>\n",
       "      <td>Precipitación Acumulada % de datos</td>\n",
       "    </tr>\n",
       "  </tbody>\n",
       "</table>\n",
       "</div>"
      ],
      "text/plain": [
       "           www.agrometeorologia.cl               Unnamed: 1  \\\n",
       "0    Red Agrometeorológica de INIA                      NaN   \n",
       "1  Generado el 07-07-2024 11:11:51                      NaN   \n",
       "2                  Copihue, Retiro                      NaN   \n",
       "3                              NaN                      NaN   \n",
       "4                     Tiempo UTC-4  Temperatura del Aire ºC   \n",
       "\n",
       "                       Unnamed: 2                      Unnamed: 3  \\\n",
       "0                             NaN                             NaN   \n",
       "1                             NaN                             NaN   \n",
       "2                             NaN                             NaN   \n",
       "3                             NaN                             NaN   \n",
       "4  Temperatura del Aire Mínima ºC  Temperatura del Aire Máxima ºC   \n",
       "\n",
       "                   Unnamed: 4                        Unnamed: 5  \\\n",
       "0                         NaN                               NaN   \n",
       "1                         NaN                               NaN   \n",
       "2                         NaN                               NaN   \n",
       "3                         NaN                               NaN   \n",
       "4  Precipitación Acumulada mm  Temperatura del Aire % de datos    \n",
       "\n",
       "                                Unnamed: 6  \\\n",
       "0                                      NaN   \n",
       "1                                      NaN   \n",
       "2                                      NaN   \n",
       "3                                      NaN   \n",
       "4  Temperatura del Aire Mínima % de datos    \n",
       "\n",
       "                                Unnamed: 7  \\\n",
       "0                                      NaN   \n",
       "1                                      NaN   \n",
       "2                                      NaN   \n",
       "3                                      NaN   \n",
       "4  Temperatura del Aire Máxima % de datos    \n",
       "\n",
       "                            Unnamed: 8  \n",
       "0                                  NaN  \n",
       "1                                  NaN  \n",
       "2                                  NaN  \n",
       "3                                  NaN  \n",
       "4  Precipitación Acumulada % de datos   "
      ]
     },
     "execution_count": 544,
     "metadata": {},
     "output_type": "execute_result"
    }
   ],
   "source": [
    "df.head()"
   ]
  },
  {
   "cell_type": "code",
   "execution_count": 546,
   "id": "5e548080-5c1e-48da-8e38-941f77ae8ef8",
   "metadata": {},
   "outputs": [
    {
     "data": {
      "text/html": [
       "<div>\n",
       "<style scoped>\n",
       "    .dataframe tbody tr th:only-of-type {\n",
       "        vertical-align: middle;\n",
       "    }\n",
       "\n",
       "    .dataframe tbody tr th {\n",
       "        vertical-align: top;\n",
       "    }\n",
       "\n",
       "    .dataframe thead th {\n",
       "        text-align: right;\n",
       "    }\n",
       "</style>\n",
       "<table border=\"1\" class=\"dataframe\">\n",
       "  <thead>\n",
       "    <tr style=\"text-align: right;\">\n",
       "      <th></th>\n",
       "      <th>www.agrometeorologia.cl</th>\n",
       "      <th>Unnamed: 1</th>\n",
       "      <th>Unnamed: 2</th>\n",
       "      <th>Unnamed: 3</th>\n",
       "      <th>Unnamed: 4</th>\n",
       "      <th>Unnamed: 5</th>\n",
       "      <th>Unnamed: 6</th>\n",
       "      <th>Unnamed: 7</th>\n",
       "      <th>Unnamed: 8</th>\n",
       "    </tr>\n",
       "  </thead>\n",
       "  <tbody>\n",
       "    <tr>\n",
       "      <th>5520</th>\n",
       "      <td>07-07-2024</td>\n",
       "      <td>-2.4</td>\n",
       "      <td>-5.9</td>\n",
       "      <td>1.2</td>\n",
       "      <td>0</td>\n",
       "      <td>42</td>\n",
       "      <td>42</td>\n",
       "      <td>42</td>\n",
       "      <td>42</td>\n",
       "    </tr>\n",
       "    <tr>\n",
       "      <th>5521</th>\n",
       "      <td>NaN</td>\n",
       "      <td>NaN</td>\n",
       "      <td>NaN</td>\n",
       "      <td>NaN</td>\n",
       "      <td>NaN</td>\n",
       "      <td>NaN</td>\n",
       "      <td>NaN</td>\n",
       "      <td>NaN</td>\n",
       "      <td>NaN</td>\n",
       "    </tr>\n",
       "    <tr>\n",
       "      <th>5522</th>\n",
       "      <td>NaN</td>\n",
       "      <td>NaN</td>\n",
       "      <td>NaN</td>\n",
       "      <td>NaN</td>\n",
       "      <td>NaN</td>\n",
       "      <td>NaN</td>\n",
       "      <td>NaN</td>\n",
       "      <td>NaN</td>\n",
       "      <td>NaN</td>\n",
       "    </tr>\n",
       "    <tr>\n",
       "      <th>5523</th>\n",
       "      <td>El uso de los datos en publicaciones debe seña...</td>\n",
       "      <td>NaN</td>\n",
       "      <td>NaN</td>\n",
       "      <td>NaN</td>\n",
       "      <td>NaN</td>\n",
       "      <td>NaN</td>\n",
       "      <td>NaN</td>\n",
       "      <td>NaN</td>\n",
       "      <td>NaN</td>\n",
       "    </tr>\n",
       "    <tr>\n",
       "      <th>5524</th>\n",
       "      <td>Descargar logo desde: https://agrometeorologia...</td>\n",
       "      <td>NaN</td>\n",
       "      <td>NaN</td>\n",
       "      <td>NaN</td>\n",
       "      <td>NaN</td>\n",
       "      <td>NaN</td>\n",
       "      <td>NaN</td>\n",
       "      <td>NaN</td>\n",
       "      <td>NaN</td>\n",
       "    </tr>\n",
       "  </tbody>\n",
       "</table>\n",
       "</div>"
      ],
      "text/plain": [
       "                                www.agrometeorologia.cl Unnamed: 1 Unnamed: 2  \\\n",
       "5520                                         07-07-2024       -2.4       -5.9   \n",
       "5521                                                NaN        NaN        NaN   \n",
       "5522                                                NaN        NaN        NaN   \n",
       "5523  El uso de los datos en publicaciones debe seña...        NaN        NaN   \n",
       "5524  Descargar logo desde: https://agrometeorologia...        NaN        NaN   \n",
       "\n",
       "     Unnamed: 3 Unnamed: 4 Unnamed: 5 Unnamed: 6 Unnamed: 7 Unnamed: 8  \n",
       "5520        1.2          0         42         42         42         42  \n",
       "5521        NaN        NaN        NaN        NaN        NaN        NaN  \n",
       "5522        NaN        NaN        NaN        NaN        NaN        NaN  \n",
       "5523        NaN        NaN        NaN        NaN        NaN        NaN  \n",
       "5524        NaN        NaN        NaN        NaN        NaN        NaN  "
      ]
     },
     "execution_count": 546,
     "metadata": {},
     "output_type": "execute_result"
    }
   ],
   "source": [
    "df.tail()"
   ]
  },
  {
   "cell_type": "markdown",
   "id": "cd317ff8-dff8-4c41-8278-bc5757aed2fb",
   "metadata": {},
   "source": [
    "### Copy data of data source:"
   ]
  },
  {
   "cell_type": "code",
   "execution_count": 548,
   "id": "67da4bac-8a0d-401d-aeb6-46d930bff508",
   "metadata": {},
   "outputs": [
    {
     "data": {
      "text/plain": [
       "'Descargar logo desde: https://agrometeorologia.cl/assets/img/agrometeorologia-logo.png'"
      ]
     },
     "execution_count": 548,
     "metadata": {},
     "output_type": "execute_result"
    }
   ],
   "source": [
    "df.loc[5524,\"www.agrometeorologia.cl\" ]"
   ]
  },
  {
   "cell_type": "code",
   "execution_count": 550,
   "id": "a2964acd-61d4-489f-8aa0-e1c1057ff302",
   "metadata": {},
   "outputs": [
    {
     "data": {
      "text/plain": [
       "'El uso de los datos en publicaciones debe señalar la fuente de los datos y que es una colaboración entre INIA y las instituciones que mantienen convenio con INIA. Adicionalmente, se solicita colocar en un lugar visible el logo de la red agrometeorológica de INIA.'"
      ]
     },
     "execution_count": 550,
     "metadata": {},
     "output_type": "execute_result"
    }
   ],
   "source": [
    "df.loc[5523,\"www.agrometeorologia.cl\" ]"
   ]
  },
  {
   "cell_type": "markdown",
   "id": "e29053f8-668e-4d10-b81d-b1aab953b2c8",
   "metadata": {},
   "source": [
    "## Delete rows that do not contain climate data:"
   ]
  },
  {
   "cell_type": "code",
   "execution_count": 552,
   "id": "6facf044-7eae-4110-929f-bf60c8744514",
   "metadata": {},
   "outputs": [],
   "source": [
    "df=df.drop([5523,5524])"
   ]
  },
  {
   "cell_type": "code",
   "execution_count": 554,
   "id": "7791a9d2-589f-41a8-b188-b729483c7d95",
   "metadata": {},
   "outputs": [
    {
     "data": {
      "text/html": [
       "<div>\n",
       "<style scoped>\n",
       "    .dataframe tbody tr th:only-of-type {\n",
       "        vertical-align: middle;\n",
       "    }\n",
       "\n",
       "    .dataframe tbody tr th {\n",
       "        vertical-align: top;\n",
       "    }\n",
       "\n",
       "    .dataframe thead th {\n",
       "        text-align: right;\n",
       "    }\n",
       "</style>\n",
       "<table border=\"1\" class=\"dataframe\">\n",
       "  <thead>\n",
       "    <tr style=\"text-align: right;\">\n",
       "      <th></th>\n",
       "      <th>www.agrometeorologia.cl</th>\n",
       "      <th>Unnamed: 1</th>\n",
       "      <th>Unnamed: 2</th>\n",
       "      <th>Unnamed: 3</th>\n",
       "      <th>Unnamed: 4</th>\n",
       "      <th>Unnamed: 5</th>\n",
       "      <th>Unnamed: 6</th>\n",
       "      <th>Unnamed: 7</th>\n",
       "      <th>Unnamed: 8</th>\n",
       "    </tr>\n",
       "  </thead>\n",
       "  <tbody>\n",
       "    <tr>\n",
       "      <th>5518</th>\n",
       "      <td>05-07-2024</td>\n",
       "      <td>2.8</td>\n",
       "      <td>-5.4</td>\n",
       "      <td>10.9</td>\n",
       "      <td>0</td>\n",
       "      <td>100</td>\n",
       "      <td>100</td>\n",
       "      <td>100</td>\n",
       "      <td>100</td>\n",
       "    </tr>\n",
       "    <tr>\n",
       "      <th>5519</th>\n",
       "      <td>06-07-2024</td>\n",
       "      <td>3.5</td>\n",
       "      <td>-4</td>\n",
       "      <td>11</td>\n",
       "      <td>0</td>\n",
       "      <td>100</td>\n",
       "      <td>100</td>\n",
       "      <td>100</td>\n",
       "      <td>100</td>\n",
       "    </tr>\n",
       "    <tr>\n",
       "      <th>5520</th>\n",
       "      <td>07-07-2024</td>\n",
       "      <td>-2.4</td>\n",
       "      <td>-5.9</td>\n",
       "      <td>1.2</td>\n",
       "      <td>0</td>\n",
       "      <td>42</td>\n",
       "      <td>42</td>\n",
       "      <td>42</td>\n",
       "      <td>42</td>\n",
       "    </tr>\n",
       "    <tr>\n",
       "      <th>5521</th>\n",
       "      <td>NaN</td>\n",
       "      <td>NaN</td>\n",
       "      <td>NaN</td>\n",
       "      <td>NaN</td>\n",
       "      <td>NaN</td>\n",
       "      <td>NaN</td>\n",
       "      <td>NaN</td>\n",
       "      <td>NaN</td>\n",
       "      <td>NaN</td>\n",
       "    </tr>\n",
       "    <tr>\n",
       "      <th>5522</th>\n",
       "      <td>NaN</td>\n",
       "      <td>NaN</td>\n",
       "      <td>NaN</td>\n",
       "      <td>NaN</td>\n",
       "      <td>NaN</td>\n",
       "      <td>NaN</td>\n",
       "      <td>NaN</td>\n",
       "      <td>NaN</td>\n",
       "      <td>NaN</td>\n",
       "    </tr>\n",
       "  </tbody>\n",
       "</table>\n",
       "</div>"
      ],
      "text/plain": [
       "     www.agrometeorologia.cl Unnamed: 1 Unnamed: 2 Unnamed: 3 Unnamed: 4  \\\n",
       "5518              05-07-2024        2.8       -5.4       10.9          0   \n",
       "5519              06-07-2024        3.5         -4         11          0   \n",
       "5520              07-07-2024       -2.4       -5.9        1.2          0   \n",
       "5521                     NaN        NaN        NaN        NaN        NaN   \n",
       "5522                     NaN        NaN        NaN        NaN        NaN   \n",
       "\n",
       "     Unnamed: 5 Unnamed: 6 Unnamed: 7 Unnamed: 8  \n",
       "5518        100        100        100        100  \n",
       "5519        100        100        100        100  \n",
       "5520         42         42         42         42  \n",
       "5521        NaN        NaN        NaN        NaN  \n",
       "5522        NaN        NaN        NaN        NaN  "
      ]
     },
     "execution_count": 554,
     "metadata": {},
     "output_type": "execute_result"
    }
   ],
   "source": [
    "df.tail()"
   ]
  },
  {
   "cell_type": "code",
   "execution_count": 556,
   "id": "a35e3fa3-cdc6-402c-9281-a0d1bc00b15e",
   "metadata": {},
   "outputs": [
    {
     "data": {
      "text/html": [
       "<div>\n",
       "<style scoped>\n",
       "    .dataframe tbody tr th:only-of-type {\n",
       "        vertical-align: middle;\n",
       "    }\n",
       "\n",
       "    .dataframe tbody tr th {\n",
       "        vertical-align: top;\n",
       "    }\n",
       "\n",
       "    .dataframe thead th {\n",
       "        text-align: right;\n",
       "    }\n",
       "</style>\n",
       "<table border=\"1\" class=\"dataframe\">\n",
       "  <thead>\n",
       "    <tr style=\"text-align: right;\">\n",
       "      <th></th>\n",
       "      <th>www.agrometeorologia.cl</th>\n",
       "      <th>Unnamed: 1</th>\n",
       "      <th>Unnamed: 2</th>\n",
       "      <th>Unnamed: 3</th>\n",
       "      <th>Unnamed: 4</th>\n",
       "      <th>Unnamed: 5</th>\n",
       "      <th>Unnamed: 6</th>\n",
       "      <th>Unnamed: 7</th>\n",
       "      <th>Unnamed: 8</th>\n",
       "    </tr>\n",
       "  </thead>\n",
       "  <tbody>\n",
       "    <tr>\n",
       "      <th>0</th>\n",
       "      <td>Red Agrometeorológica de INIA</td>\n",
       "      <td>NaN</td>\n",
       "      <td>NaN</td>\n",
       "      <td>NaN</td>\n",
       "      <td>NaN</td>\n",
       "      <td>NaN</td>\n",
       "      <td>NaN</td>\n",
       "      <td>NaN</td>\n",
       "      <td>NaN</td>\n",
       "    </tr>\n",
       "    <tr>\n",
       "      <th>1</th>\n",
       "      <td>Generado el 07-07-2024 11:11:51</td>\n",
       "      <td>NaN</td>\n",
       "      <td>NaN</td>\n",
       "      <td>NaN</td>\n",
       "      <td>NaN</td>\n",
       "      <td>NaN</td>\n",
       "      <td>NaN</td>\n",
       "      <td>NaN</td>\n",
       "      <td>NaN</td>\n",
       "    </tr>\n",
       "    <tr>\n",
       "      <th>2</th>\n",
       "      <td>Copihue, Retiro</td>\n",
       "      <td>NaN</td>\n",
       "      <td>NaN</td>\n",
       "      <td>NaN</td>\n",
       "      <td>NaN</td>\n",
       "      <td>NaN</td>\n",
       "      <td>NaN</td>\n",
       "      <td>NaN</td>\n",
       "      <td>NaN</td>\n",
       "    </tr>\n",
       "    <tr>\n",
       "      <th>3</th>\n",
       "      <td>NaN</td>\n",
       "      <td>NaN</td>\n",
       "      <td>NaN</td>\n",
       "      <td>NaN</td>\n",
       "      <td>NaN</td>\n",
       "      <td>NaN</td>\n",
       "      <td>NaN</td>\n",
       "      <td>NaN</td>\n",
       "      <td>NaN</td>\n",
       "    </tr>\n",
       "    <tr>\n",
       "      <th>4</th>\n",
       "      <td>Tiempo UTC-4</td>\n",
       "      <td>Temperatura del Aire ºC</td>\n",
       "      <td>Temperatura del Aire Mínima ºC</td>\n",
       "      <td>Temperatura del Aire Máxima ºC</td>\n",
       "      <td>Precipitación Acumulada mm</td>\n",
       "      <td>Temperatura del Aire % de datos</td>\n",
       "      <td>Temperatura del Aire Mínima % de datos</td>\n",
       "      <td>Temperatura del Aire Máxima % de datos</td>\n",
       "      <td>Precipitación Acumulada % de datos</td>\n",
       "    </tr>\n",
       "  </tbody>\n",
       "</table>\n",
       "</div>"
      ],
      "text/plain": [
       "           www.agrometeorologia.cl               Unnamed: 1  \\\n",
       "0    Red Agrometeorológica de INIA                      NaN   \n",
       "1  Generado el 07-07-2024 11:11:51                      NaN   \n",
       "2                  Copihue, Retiro                      NaN   \n",
       "3                              NaN                      NaN   \n",
       "4                     Tiempo UTC-4  Temperatura del Aire ºC   \n",
       "\n",
       "                       Unnamed: 2                      Unnamed: 3  \\\n",
       "0                             NaN                             NaN   \n",
       "1                             NaN                             NaN   \n",
       "2                             NaN                             NaN   \n",
       "3                             NaN                             NaN   \n",
       "4  Temperatura del Aire Mínima ºC  Temperatura del Aire Máxima ºC   \n",
       "\n",
       "                   Unnamed: 4                        Unnamed: 5  \\\n",
       "0                         NaN                               NaN   \n",
       "1                         NaN                               NaN   \n",
       "2                         NaN                               NaN   \n",
       "3                         NaN                               NaN   \n",
       "4  Precipitación Acumulada mm  Temperatura del Aire % de datos    \n",
       "\n",
       "                                Unnamed: 6  \\\n",
       "0                                      NaN   \n",
       "1                                      NaN   \n",
       "2                                      NaN   \n",
       "3                                      NaN   \n",
       "4  Temperatura del Aire Mínima % de datos    \n",
       "\n",
       "                                Unnamed: 7  \\\n",
       "0                                      NaN   \n",
       "1                                      NaN   \n",
       "2                                      NaN   \n",
       "3                                      NaN   \n",
       "4  Temperatura del Aire Máxima % de datos    \n",
       "\n",
       "                            Unnamed: 8  \n",
       "0                                  NaN  \n",
       "1                                  NaN  \n",
       "2                                  NaN  \n",
       "3                                  NaN  \n",
       "4  Precipitación Acumulada % de datos   "
      ]
     },
     "execution_count": 556,
     "metadata": {},
     "output_type": "execute_result"
    }
   ],
   "source": [
    "df.head()"
   ]
  },
  {
   "cell_type": "code",
   "execution_count": 558,
   "id": "c89120d9-8fca-4c96-a537-cab15ddd2bd1",
   "metadata": {},
   "outputs": [],
   "source": [
    "df=df.drop([0,1,2,3])"
   ]
  },
  {
   "cell_type": "markdown",
   "id": "789216d2-88a9-4a0c-af8f-e804cb69dc4d",
   "metadata": {},
   "source": [
    "## Rename columns:"
   ]
  },
  {
   "cell_type": "code",
   "execution_count": 560,
   "id": "b08fa243-9d9b-4058-bd39-69e7b5535126",
   "metadata": {},
   "outputs": [
    {
     "data": {
      "text/plain": [
       "Index(['www.agrometeorologia.cl', 'Unnamed: 1', 'Unnamed: 2', 'Unnamed: 3',\n",
       "       'Unnamed: 4', 'Unnamed: 5', 'Unnamed: 6', 'Unnamed: 7', 'Unnamed: 8'],\n",
       "      dtype='object')"
      ]
     },
     "execution_count": 560,
     "metadata": {},
     "output_type": "execute_result"
    }
   ],
   "source": [
    "df.columns"
   ]
  },
  {
   "cell_type": "code",
   "execution_count": 562,
   "id": "afbcb902-dd20-4c18-8afe-4af2f14b8bc0",
   "metadata": {},
   "outputs": [],
   "source": [
    "df=df.rename(columns={'www.agrometeorologia.cl': \"time\", 'Unnamed: 1':\"t_med\", 'Unnamed: 2':\"t_min\", 'Unnamed: 3':\"t_max\",\n",
    "       'Unnamed: 4':\"p_acum\"})"
   ]
  },
  {
   "cell_type": "code",
   "execution_count": 564,
   "id": "21069f75-ae90-4a3c-bc25-19a81dc726f1",
   "metadata": {},
   "outputs": [
    {
     "data": {
      "text/html": [
       "<div>\n",
       "<style scoped>\n",
       "    .dataframe tbody tr th:only-of-type {\n",
       "        vertical-align: middle;\n",
       "    }\n",
       "\n",
       "    .dataframe tbody tr th {\n",
       "        vertical-align: top;\n",
       "    }\n",
       "\n",
       "    .dataframe thead th {\n",
       "        text-align: right;\n",
       "    }\n",
       "</style>\n",
       "<table border=\"1\" class=\"dataframe\">\n",
       "  <thead>\n",
       "    <tr style=\"text-align: right;\">\n",
       "      <th></th>\n",
       "      <th>time</th>\n",
       "      <th>t_med</th>\n",
       "      <th>t_min</th>\n",
       "      <th>t_max</th>\n",
       "      <th>p_acum</th>\n",
       "      <th>Unnamed: 5</th>\n",
       "      <th>Unnamed: 6</th>\n",
       "      <th>Unnamed: 7</th>\n",
       "      <th>Unnamed: 8</th>\n",
       "    </tr>\n",
       "  </thead>\n",
       "  <tbody>\n",
       "    <tr>\n",
       "      <th>4</th>\n",
       "      <td>Tiempo UTC-4</td>\n",
       "      <td>Temperatura del Aire ºC</td>\n",
       "      <td>Temperatura del Aire Mínima ºC</td>\n",
       "      <td>Temperatura del Aire Máxima ºC</td>\n",
       "      <td>Precipitación Acumulada mm</td>\n",
       "      <td>Temperatura del Aire % de datos</td>\n",
       "      <td>Temperatura del Aire Mínima % de datos</td>\n",
       "      <td>Temperatura del Aire Máxima % de datos</td>\n",
       "      <td>Precipitación Acumulada % de datos</td>\n",
       "    </tr>\n",
       "    <tr>\n",
       "      <th>5</th>\n",
       "      <td>01-06-2009</td>\n",
       "      <td>NaN</td>\n",
       "      <td>NaN</td>\n",
       "      <td>NaN</td>\n",
       "      <td>NaN</td>\n",
       "      <td>NaN</td>\n",
       "      <td>NaN</td>\n",
       "      <td>NaN</td>\n",
       "      <td>NaN</td>\n",
       "    </tr>\n",
       "    <tr>\n",
       "      <th>6</th>\n",
       "      <td>02-06-2009</td>\n",
       "      <td>NaN</td>\n",
       "      <td>NaN</td>\n",
       "      <td>NaN</td>\n",
       "      <td>NaN</td>\n",
       "      <td>NaN</td>\n",
       "      <td>NaN</td>\n",
       "      <td>NaN</td>\n",
       "      <td>NaN</td>\n",
       "    </tr>\n",
       "    <tr>\n",
       "      <th>7</th>\n",
       "      <td>03-06-2009</td>\n",
       "      <td>NaN</td>\n",
       "      <td>NaN</td>\n",
       "      <td>NaN</td>\n",
       "      <td>NaN</td>\n",
       "      <td>NaN</td>\n",
       "      <td>NaN</td>\n",
       "      <td>NaN</td>\n",
       "      <td>NaN</td>\n",
       "    </tr>\n",
       "    <tr>\n",
       "      <th>8</th>\n",
       "      <td>04-06-2009</td>\n",
       "      <td>NaN</td>\n",
       "      <td>NaN</td>\n",
       "      <td>NaN</td>\n",
       "      <td>NaN</td>\n",
       "      <td>NaN</td>\n",
       "      <td>NaN</td>\n",
       "      <td>NaN</td>\n",
       "      <td>NaN</td>\n",
       "    </tr>\n",
       "  </tbody>\n",
       "</table>\n",
       "</div>"
      ],
      "text/plain": [
       "           time                    t_med                           t_min  \\\n",
       "4  Tiempo UTC-4  Temperatura del Aire ºC  Temperatura del Aire Mínima ºC   \n",
       "5    01-06-2009                      NaN                             NaN   \n",
       "6    02-06-2009                      NaN                             NaN   \n",
       "7    03-06-2009                      NaN                             NaN   \n",
       "8    04-06-2009                      NaN                             NaN   \n",
       "\n",
       "                            t_max                      p_acum  \\\n",
       "4  Temperatura del Aire Máxima ºC  Precipitación Acumulada mm   \n",
       "5                             NaN                         NaN   \n",
       "6                             NaN                         NaN   \n",
       "7                             NaN                         NaN   \n",
       "8                             NaN                         NaN   \n",
       "\n",
       "                         Unnamed: 5                               Unnamed: 6  \\\n",
       "4  Temperatura del Aire % de datos   Temperatura del Aire Mínima % de datos    \n",
       "5                               NaN                                      NaN   \n",
       "6                               NaN                                      NaN   \n",
       "7                               NaN                                      NaN   \n",
       "8                               NaN                                      NaN   \n",
       "\n",
       "                                Unnamed: 7  \\\n",
       "4  Temperatura del Aire Máxima % de datos    \n",
       "5                                      NaN   \n",
       "6                                      NaN   \n",
       "7                                      NaN   \n",
       "8                                      NaN   \n",
       "\n",
       "                            Unnamed: 8  \n",
       "4  Precipitación Acumulada % de datos   \n",
       "5                                  NaN  \n",
       "6                                  NaN  \n",
       "7                                  NaN  \n",
       "8                                  NaN  "
      ]
     },
     "execution_count": 564,
     "metadata": {},
     "output_type": "execute_result"
    }
   ],
   "source": [
    "df.head()"
   ]
  },
  {
   "cell_type": "markdown",
   "id": "f8512dfe-9e11-4d8e-870b-a3b42cf7376a",
   "metadata": {},
   "source": [
    "### Delete columns that do not contain climate data:"
   ]
  },
  {
   "cell_type": "code",
   "execution_count": 566,
   "id": "68290461-d02e-42d8-b387-d7fdc895c294",
   "metadata": {},
   "outputs": [],
   "source": [
    "df=df.drop(['Unnamed: 5', 'Unnamed: 6', 'Unnamed: 7', 'Unnamed: 8'], axis=1)"
   ]
  },
  {
   "cell_type": "code",
   "execution_count": 568,
   "id": "483ea19a-54cb-4baf-96b8-ad8a94c273b3",
   "metadata": {},
   "outputs": [
    {
     "data": {
      "text/html": [
       "<div>\n",
       "<style scoped>\n",
       "    .dataframe tbody tr th:only-of-type {\n",
       "        vertical-align: middle;\n",
       "    }\n",
       "\n",
       "    .dataframe tbody tr th {\n",
       "        vertical-align: top;\n",
       "    }\n",
       "\n",
       "    .dataframe thead th {\n",
       "        text-align: right;\n",
       "    }\n",
       "</style>\n",
       "<table border=\"1\" class=\"dataframe\">\n",
       "  <thead>\n",
       "    <tr style=\"text-align: right;\">\n",
       "      <th></th>\n",
       "      <th>time</th>\n",
       "      <th>t_med</th>\n",
       "      <th>t_min</th>\n",
       "      <th>t_max</th>\n",
       "      <th>p_acum</th>\n",
       "    </tr>\n",
       "  </thead>\n",
       "  <tbody>\n",
       "    <tr>\n",
       "      <th>4</th>\n",
       "      <td>Tiempo UTC-4</td>\n",
       "      <td>Temperatura del Aire ºC</td>\n",
       "      <td>Temperatura del Aire Mínima ºC</td>\n",
       "      <td>Temperatura del Aire Máxima ºC</td>\n",
       "      <td>Precipitación Acumulada mm</td>\n",
       "    </tr>\n",
       "    <tr>\n",
       "      <th>5</th>\n",
       "      <td>01-06-2009</td>\n",
       "      <td>NaN</td>\n",
       "      <td>NaN</td>\n",
       "      <td>NaN</td>\n",
       "      <td>NaN</td>\n",
       "    </tr>\n",
       "    <tr>\n",
       "      <th>6</th>\n",
       "      <td>02-06-2009</td>\n",
       "      <td>NaN</td>\n",
       "      <td>NaN</td>\n",
       "      <td>NaN</td>\n",
       "      <td>NaN</td>\n",
       "    </tr>\n",
       "    <tr>\n",
       "      <th>7</th>\n",
       "      <td>03-06-2009</td>\n",
       "      <td>NaN</td>\n",
       "      <td>NaN</td>\n",
       "      <td>NaN</td>\n",
       "      <td>NaN</td>\n",
       "    </tr>\n",
       "    <tr>\n",
       "      <th>8</th>\n",
       "      <td>04-06-2009</td>\n",
       "      <td>NaN</td>\n",
       "      <td>NaN</td>\n",
       "      <td>NaN</td>\n",
       "      <td>NaN</td>\n",
       "    </tr>\n",
       "  </tbody>\n",
       "</table>\n",
       "</div>"
      ],
      "text/plain": [
       "           time                    t_med                           t_min  \\\n",
       "4  Tiempo UTC-4  Temperatura del Aire ºC  Temperatura del Aire Mínima ºC   \n",
       "5    01-06-2009                      NaN                             NaN   \n",
       "6    02-06-2009                      NaN                             NaN   \n",
       "7    03-06-2009                      NaN                             NaN   \n",
       "8    04-06-2009                      NaN                             NaN   \n",
       "\n",
       "                            t_max                      p_acum  \n",
       "4  Temperatura del Aire Máxima ºC  Precipitación Acumulada mm  \n",
       "5                             NaN                         NaN  \n",
       "6                             NaN                         NaN  \n",
       "7                             NaN                         NaN  \n",
       "8                             NaN                         NaN  "
      ]
     },
     "execution_count": 568,
     "metadata": {},
     "output_type": "execute_result"
    }
   ],
   "source": [
    "df.head()"
   ]
  },
  {
   "cell_type": "markdown",
   "id": "a10e6d94-5aee-483f-9ac4-304ca950611b",
   "metadata": {},
   "source": [
    "## Save metadata:"
   ]
  },
  {
   "cell_type": "code",
   "execution_count": 573,
   "id": "b8e030c5-c1b4-438a-80dc-0b91416d8442",
   "metadata": {
    "jp-MarkdownHeadingCollapsed": true
   },
   "outputs": [
    {
     "data": {
      "text/plain": [
       "time                        Tiempo UTC-4\n",
       "t_med            Temperatura del Aire ºC\n",
       "t_min     Temperatura del Aire Mínima ºC\n",
       "t_max     Temperatura del Aire Máxima ºC\n",
       "p_acum        Precipitación Acumulada mm\n",
       "Name: 4, dtype: object"
      ]
     },
     "execution_count": 573,
     "metadata": {},
     "output_type": "execute_result"
    }
   ],
   "source": [
    "metadata=df.loc[4]\n",
    "metadata"
   ]
  },
  {
   "cell_type": "code",
   "execution_count": 575,
   "id": "b51e88b9-411f-4d4e-bb2c-a36835185eab",
   "metadata": {},
   "outputs": [],
   "source": [
    "metadata.to_csv(\"clean_data/metadata.csv\")"
   ]
  },
  {
   "cell_type": "markdown",
   "id": "eab75ada-466d-4459-ae0f-5cc396d1b0e3",
   "metadata": {},
   "source": [
    "### Delete row containing metadata:"
   ]
  },
  {
   "cell_type": "code",
   "execution_count": 577,
   "id": "ba47f83b-7f2a-4ff6-9380-55d714d832df",
   "metadata": {},
   "outputs": [],
   "source": [
    "df=df.drop(4)"
   ]
  },
  {
   "cell_type": "markdown",
   "id": "4868198c-8ac1-4579-aa50-5ed5354b7ae7",
   "metadata": {},
   "source": [
    "## Explore the data frame:"
   ]
  },
  {
   "cell_type": "code",
   "execution_count": 579,
   "id": "800d60ad-302a-45aa-a0a4-7ca11fc59ec7",
   "metadata": {},
   "outputs": [
    {
     "data": {
      "text/html": [
       "<div>\n",
       "<style scoped>\n",
       "    .dataframe tbody tr th:only-of-type {\n",
       "        vertical-align: middle;\n",
       "    }\n",
       "\n",
       "    .dataframe tbody tr th {\n",
       "        vertical-align: top;\n",
       "    }\n",
       "\n",
       "    .dataframe thead th {\n",
       "        text-align: right;\n",
       "    }\n",
       "</style>\n",
       "<table border=\"1\" class=\"dataframe\">\n",
       "  <thead>\n",
       "    <tr style=\"text-align: right;\">\n",
       "      <th></th>\n",
       "      <th>time</th>\n",
       "      <th>t_med</th>\n",
       "      <th>t_min</th>\n",
       "      <th>t_max</th>\n",
       "      <th>p_acum</th>\n",
       "    </tr>\n",
       "  </thead>\n",
       "  <tbody>\n",
       "    <tr>\n",
       "      <th>5</th>\n",
       "      <td>01-06-2009</td>\n",
       "      <td>NaN</td>\n",
       "      <td>NaN</td>\n",
       "      <td>NaN</td>\n",
       "      <td>NaN</td>\n",
       "    </tr>\n",
       "    <tr>\n",
       "      <th>6</th>\n",
       "      <td>02-06-2009</td>\n",
       "      <td>NaN</td>\n",
       "      <td>NaN</td>\n",
       "      <td>NaN</td>\n",
       "      <td>NaN</td>\n",
       "    </tr>\n",
       "    <tr>\n",
       "      <th>7</th>\n",
       "      <td>03-06-2009</td>\n",
       "      <td>NaN</td>\n",
       "      <td>NaN</td>\n",
       "      <td>NaN</td>\n",
       "      <td>NaN</td>\n",
       "    </tr>\n",
       "    <tr>\n",
       "      <th>8</th>\n",
       "      <td>04-06-2009</td>\n",
       "      <td>NaN</td>\n",
       "      <td>NaN</td>\n",
       "      <td>NaN</td>\n",
       "      <td>NaN</td>\n",
       "    </tr>\n",
       "    <tr>\n",
       "      <th>9</th>\n",
       "      <td>05-06-2009</td>\n",
       "      <td>NaN</td>\n",
       "      <td>NaN</td>\n",
       "      <td>NaN</td>\n",
       "      <td>NaN</td>\n",
       "    </tr>\n",
       "    <tr>\n",
       "      <th>10</th>\n",
       "      <td>06-06-2009</td>\n",
       "      <td>NaN</td>\n",
       "      <td>NaN</td>\n",
       "      <td>NaN</td>\n",
       "      <td>NaN</td>\n",
       "    </tr>\n",
       "    <tr>\n",
       "      <th>11</th>\n",
       "      <td>07-06-2009</td>\n",
       "      <td>NaN</td>\n",
       "      <td>NaN</td>\n",
       "      <td>NaN</td>\n",
       "      <td>NaN</td>\n",
       "    </tr>\n",
       "    <tr>\n",
       "      <th>12</th>\n",
       "      <td>08-06-2009</td>\n",
       "      <td>NaN</td>\n",
       "      <td>NaN</td>\n",
       "      <td>NaN</td>\n",
       "      <td>NaN</td>\n",
       "    </tr>\n",
       "    <tr>\n",
       "      <th>13</th>\n",
       "      <td>09-06-2009</td>\n",
       "      <td>NaN</td>\n",
       "      <td>NaN</td>\n",
       "      <td>NaN</td>\n",
       "      <td>NaN</td>\n",
       "    </tr>\n",
       "    <tr>\n",
       "      <th>14</th>\n",
       "      <td>10-06-2009</td>\n",
       "      <td>NaN</td>\n",
       "      <td>NaN</td>\n",
       "      <td>NaN</td>\n",
       "      <td>NaN</td>\n",
       "    </tr>\n",
       "  </tbody>\n",
       "</table>\n",
       "</div>"
      ],
      "text/plain": [
       "          time t_med t_min t_max p_acum\n",
       "5   01-06-2009   NaN   NaN   NaN    NaN\n",
       "6   02-06-2009   NaN   NaN   NaN    NaN\n",
       "7   03-06-2009   NaN   NaN   NaN    NaN\n",
       "8   04-06-2009   NaN   NaN   NaN    NaN\n",
       "9   05-06-2009   NaN   NaN   NaN    NaN\n",
       "10  06-06-2009   NaN   NaN   NaN    NaN\n",
       "11  07-06-2009   NaN   NaN   NaN    NaN\n",
       "12  08-06-2009   NaN   NaN   NaN    NaN\n",
       "13  09-06-2009   NaN   NaN   NaN    NaN\n",
       "14  10-06-2009   NaN   NaN   NaN    NaN"
      ]
     },
     "execution_count": 579,
     "metadata": {},
     "output_type": "execute_result"
    }
   ],
   "source": [
    "df.head(10)"
   ]
  },
  {
   "cell_type": "code",
   "execution_count": 581,
   "id": "6b5db772-3ccc-4738-8fc8-ff93b4e321b6",
   "metadata": {},
   "outputs": [
    {
     "data": {
      "text/plain": [
       "(5518, 5)"
      ]
     },
     "execution_count": 581,
     "metadata": {},
     "output_type": "execute_result"
    }
   ],
   "source": [
    "df.shape"
   ]
  },
  {
   "cell_type": "code",
   "execution_count": 583,
   "id": "fdcec674-db47-43bc-8aff-3779377a7dec",
   "metadata": {},
   "outputs": [
    {
     "name": "stdout",
     "output_type": "stream",
     "text": [
      "<class 'pandas.core.frame.DataFrame'>\n",
      "RangeIndex: 5518 entries, 5 to 5522\n",
      "Data columns (total 5 columns):\n",
      " #   Column  Non-Null Count  Dtype \n",
      "---  ------  --------------  ----- \n",
      " 0   time    5516 non-null   object\n",
      " 1   t_med   1831 non-null   object\n",
      " 2   t_min   1831 non-null   object\n",
      " 3   t_max   1831 non-null   object\n",
      " 4   p_acum  1837 non-null   object\n",
      "dtypes: object(5)\n",
      "memory usage: 215.7+ KB\n"
     ]
    }
   ],
   "source": [
    "df.info()"
   ]
  },
  {
   "cell_type": "markdown",
   "id": "83223070-0f20-458a-a344-e607051be37a",
   "metadata": {},
   "source": [
    "### Remove null data:"
   ]
  },
  {
   "cell_type": "code",
   "execution_count": 586,
   "id": "2acc6fe2-de1d-4c62-aed3-75977df909fc",
   "metadata": {},
   "outputs": [],
   "source": [
    "df=df.dropna()"
   ]
  },
  {
   "cell_type": "code",
   "execution_count": 588,
   "id": "e35f89b5-998d-413d-a8c3-612dcee2c93f",
   "metadata": {},
   "outputs": [
    {
     "data": {
      "text/plain": [
       "(1831, 5)"
      ]
     },
     "execution_count": 588,
     "metadata": {},
     "output_type": "execute_result"
    }
   ],
   "source": [
    "df.shape"
   ]
  },
  {
   "cell_type": "markdown",
   "id": "60a7152e-723d-43e3-9ec2-f24b9941a102",
   "metadata": {},
   "source": [
    "### Remove duplicate data:"
   ]
  },
  {
   "cell_type": "code",
   "execution_count": 591,
   "id": "5860503f-9059-436e-b9b6-6b024a4c6358",
   "metadata": {},
   "outputs": [
    {
     "data": {
      "text/html": [
       "<div>\n",
       "<style scoped>\n",
       "    .dataframe tbody tr th:only-of-type {\n",
       "        vertical-align: middle;\n",
       "    }\n",
       "\n",
       "    .dataframe tbody tr th {\n",
       "        vertical-align: top;\n",
       "    }\n",
       "\n",
       "    .dataframe thead th {\n",
       "        text-align: right;\n",
       "    }\n",
       "</style>\n",
       "<table border=\"1\" class=\"dataframe\">\n",
       "  <thead>\n",
       "    <tr style=\"text-align: right;\">\n",
       "      <th></th>\n",
       "      <th>time</th>\n",
       "      <th>t_med</th>\n",
       "      <th>t_min</th>\n",
       "      <th>t_max</th>\n",
       "      <th>p_acum</th>\n",
       "    </tr>\n",
       "  </thead>\n",
       "  <tbody>\n",
       "    <tr>\n",
       "      <th>3485</th>\n",
       "      <td>11-12-2018</td>\n",
       "      <td>19.5</td>\n",
       "      <td>12</td>\n",
       "      <td>27</td>\n",
       "      <td>0</td>\n",
       "    </tr>\n",
       "    <tr>\n",
       "      <th>3486</th>\n",
       "      <td>12-12-2018</td>\n",
       "      <td>19.6</td>\n",
       "      <td>11</td>\n",
       "      <td>28.2</td>\n",
       "      <td>0</td>\n",
       "    </tr>\n",
       "    <tr>\n",
       "      <th>3487</th>\n",
       "      <td>13-12-2018</td>\n",
       "      <td>14.4</td>\n",
       "      <td>8</td>\n",
       "      <td>20.8</td>\n",
       "      <td>0</td>\n",
       "    </tr>\n",
       "    <tr>\n",
       "      <th>3488</th>\n",
       "      <td>14-12-2018</td>\n",
       "      <td>16.5</td>\n",
       "      <td>9.3</td>\n",
       "      <td>23.6</td>\n",
       "      <td>1</td>\n",
       "    </tr>\n",
       "    <tr>\n",
       "      <th>3489</th>\n",
       "      <td>15-12-2018</td>\n",
       "      <td>17.9</td>\n",
       "      <td>8.8</td>\n",
       "      <td>27</td>\n",
       "      <td>0</td>\n",
       "    </tr>\n",
       "    <tr>\n",
       "      <th>...</th>\n",
       "      <td>...</td>\n",
       "      <td>...</td>\n",
       "      <td>...</td>\n",
       "      <td>...</td>\n",
       "      <td>...</td>\n",
       "    </tr>\n",
       "    <tr>\n",
       "      <th>5516</th>\n",
       "      <td>03-07-2024</td>\n",
       "      <td>6.9</td>\n",
       "      <td>1.5</td>\n",
       "      <td>12.3</td>\n",
       "      <td>0.1</td>\n",
       "    </tr>\n",
       "    <tr>\n",
       "      <th>5517</th>\n",
       "      <td>04-07-2024</td>\n",
       "      <td>4.4</td>\n",
       "      <td>-2.5</td>\n",
       "      <td>11.2</td>\n",
       "      <td>0</td>\n",
       "    </tr>\n",
       "    <tr>\n",
       "      <th>5518</th>\n",
       "      <td>05-07-2024</td>\n",
       "      <td>2.8</td>\n",
       "      <td>-5.4</td>\n",
       "      <td>10.9</td>\n",
       "      <td>0</td>\n",
       "    </tr>\n",
       "    <tr>\n",
       "      <th>5519</th>\n",
       "      <td>06-07-2024</td>\n",
       "      <td>3.5</td>\n",
       "      <td>-4</td>\n",
       "      <td>11</td>\n",
       "      <td>0</td>\n",
       "    </tr>\n",
       "    <tr>\n",
       "      <th>5520</th>\n",
       "      <td>07-07-2024</td>\n",
       "      <td>-2.4</td>\n",
       "      <td>-5.9</td>\n",
       "      <td>1.2</td>\n",
       "      <td>0</td>\n",
       "    </tr>\n",
       "  </tbody>\n",
       "</table>\n",
       "<p>1831 rows × 5 columns</p>\n",
       "</div>"
      ],
      "text/plain": [
       "            time t_med t_min t_max p_acum\n",
       "3485  11-12-2018  19.5    12    27      0\n",
       "3486  12-12-2018  19.6    11  28.2      0\n",
       "3487  13-12-2018  14.4     8  20.8      0\n",
       "3488  14-12-2018  16.5   9.3  23.6      1\n",
       "3489  15-12-2018  17.9   8.8    27      0\n",
       "...          ...   ...   ...   ...    ...\n",
       "5516  03-07-2024   6.9   1.5  12.3    0.1\n",
       "5517  04-07-2024   4.4  -2.5  11.2      0\n",
       "5518  05-07-2024   2.8  -5.4  10.9      0\n",
       "5519  06-07-2024   3.5    -4    11      0\n",
       "5520  07-07-2024  -2.4  -5.9   1.2      0\n",
       "\n",
       "[1831 rows x 5 columns]"
      ]
     },
     "execution_count": 591,
     "metadata": {},
     "output_type": "execute_result"
    }
   ],
   "source": [
    "df.drop_duplicates()"
   ]
  },
  {
   "cell_type": "code",
   "execution_count": 593,
   "id": "d7dd8e3a-2a5f-4f82-bf55-437bc820d9fc",
   "metadata": {},
   "outputs": [
    {
     "data": {
      "text/html": [
       "<div>\n",
       "<style scoped>\n",
       "    .dataframe tbody tr th:only-of-type {\n",
       "        vertical-align: middle;\n",
       "    }\n",
       "\n",
       "    .dataframe tbody tr th {\n",
       "        vertical-align: top;\n",
       "    }\n",
       "\n",
       "    .dataframe thead th {\n",
       "        text-align: right;\n",
       "    }\n",
       "</style>\n",
       "<table border=\"1\" class=\"dataframe\">\n",
       "  <thead>\n",
       "    <tr style=\"text-align: right;\">\n",
       "      <th></th>\n",
       "      <th>time</th>\n",
       "      <th>t_med</th>\n",
       "      <th>t_min</th>\n",
       "      <th>t_max</th>\n",
       "      <th>p_acum</th>\n",
       "    </tr>\n",
       "  </thead>\n",
       "  <tbody>\n",
       "    <tr>\n",
       "      <th>3485</th>\n",
       "      <td>11-12-2018</td>\n",
       "      <td>19.5</td>\n",
       "      <td>12</td>\n",
       "      <td>27</td>\n",
       "      <td>0</td>\n",
       "    </tr>\n",
       "    <tr>\n",
       "      <th>3486</th>\n",
       "      <td>12-12-2018</td>\n",
       "      <td>19.6</td>\n",
       "      <td>11</td>\n",
       "      <td>28.2</td>\n",
       "      <td>0</td>\n",
       "    </tr>\n",
       "    <tr>\n",
       "      <th>3487</th>\n",
       "      <td>13-12-2018</td>\n",
       "      <td>14.4</td>\n",
       "      <td>8</td>\n",
       "      <td>20.8</td>\n",
       "      <td>0</td>\n",
       "    </tr>\n",
       "    <tr>\n",
       "      <th>3488</th>\n",
       "      <td>14-12-2018</td>\n",
       "      <td>16.5</td>\n",
       "      <td>9.3</td>\n",
       "      <td>23.6</td>\n",
       "      <td>1</td>\n",
       "    </tr>\n",
       "    <tr>\n",
       "      <th>3489</th>\n",
       "      <td>15-12-2018</td>\n",
       "      <td>17.9</td>\n",
       "      <td>8.8</td>\n",
       "      <td>27</td>\n",
       "      <td>0</td>\n",
       "    </tr>\n",
       "    <tr>\n",
       "      <th>3490</th>\n",
       "      <td>16-12-2018</td>\n",
       "      <td>20.5</td>\n",
       "      <td>11.2</td>\n",
       "      <td>29.9</td>\n",
       "      <td>0</td>\n",
       "    </tr>\n",
       "    <tr>\n",
       "      <th>3491</th>\n",
       "      <td>17-12-2018</td>\n",
       "      <td>21.2</td>\n",
       "      <td>13.2</td>\n",
       "      <td>29.2</td>\n",
       "      <td>0</td>\n",
       "    </tr>\n",
       "    <tr>\n",
       "      <th>3492</th>\n",
       "      <td>18-12-2018</td>\n",
       "      <td>23.2</td>\n",
       "      <td>14.1</td>\n",
       "      <td>32.4</td>\n",
       "      <td>0</td>\n",
       "    </tr>\n",
       "    <tr>\n",
       "      <th>3493</th>\n",
       "      <td>19-12-2018</td>\n",
       "      <td>20.6</td>\n",
       "      <td>11.5</td>\n",
       "      <td>29.6</td>\n",
       "      <td>0</td>\n",
       "    </tr>\n",
       "    <tr>\n",
       "      <th>3494</th>\n",
       "      <td>20-12-2018</td>\n",
       "      <td>19.5</td>\n",
       "      <td>12.5</td>\n",
       "      <td>26.5</td>\n",
       "      <td>0</td>\n",
       "    </tr>\n",
       "  </tbody>\n",
       "</table>\n",
       "</div>"
      ],
      "text/plain": [
       "            time t_med t_min t_max p_acum\n",
       "3485  11-12-2018  19.5    12    27      0\n",
       "3486  12-12-2018  19.6    11  28.2      0\n",
       "3487  13-12-2018  14.4     8  20.8      0\n",
       "3488  14-12-2018  16.5   9.3  23.6      1\n",
       "3489  15-12-2018  17.9   8.8    27      0\n",
       "3490  16-12-2018  20.5  11.2  29.9      0\n",
       "3491  17-12-2018  21.2  13.2  29.2      0\n",
       "3492  18-12-2018  23.2  14.1  32.4      0\n",
       "3493  19-12-2018  20.6  11.5  29.6      0\n",
       "3494  20-12-2018  19.5  12.5  26.5      0"
      ]
     },
     "execution_count": 593,
     "metadata": {},
     "output_type": "execute_result"
    }
   ],
   "source": [
    "df.head(10)"
   ]
  },
  {
   "cell_type": "code",
   "execution_count": 595,
   "id": "8b6b7604-28f9-423f-a574-2f94606d7c88",
   "metadata": {},
   "outputs": [
    {
     "data": {
      "text/html": [
       "<div>\n",
       "<style scoped>\n",
       "    .dataframe tbody tr th:only-of-type {\n",
       "        vertical-align: middle;\n",
       "    }\n",
       "\n",
       "    .dataframe tbody tr th {\n",
       "        vertical-align: top;\n",
       "    }\n",
       "\n",
       "    .dataframe thead th {\n",
       "        text-align: right;\n",
       "    }\n",
       "</style>\n",
       "<table border=\"1\" class=\"dataframe\">\n",
       "  <thead>\n",
       "    <tr style=\"text-align: right;\">\n",
       "      <th></th>\n",
       "      <th>time</th>\n",
       "      <th>t_med</th>\n",
       "      <th>t_min</th>\n",
       "      <th>t_max</th>\n",
       "      <th>p_acum</th>\n",
       "    </tr>\n",
       "  </thead>\n",
       "  <tbody>\n",
       "    <tr>\n",
       "      <th>5511</th>\n",
       "      <td>28-06-2024</td>\n",
       "      <td>6.9</td>\n",
       "      <td>1.8</td>\n",
       "      <td>12</td>\n",
       "      <td>0</td>\n",
       "    </tr>\n",
       "    <tr>\n",
       "      <th>5512</th>\n",
       "      <td>29-06-2024</td>\n",
       "      <td>7.5</td>\n",
       "      <td>1.1</td>\n",
       "      <td>13.9</td>\n",
       "      <td>0</td>\n",
       "    </tr>\n",
       "    <tr>\n",
       "      <th>5513</th>\n",
       "      <td>30-06-2024</td>\n",
       "      <td>5.5</td>\n",
       "      <td>-2.7</td>\n",
       "      <td>13.7</td>\n",
       "      <td>0.1</td>\n",
       "    </tr>\n",
       "    <tr>\n",
       "      <th>5514</th>\n",
       "      <td>01-07-2024</td>\n",
       "      <td>7</td>\n",
       "      <td>-2.4</td>\n",
       "      <td>16.5</td>\n",
       "      <td>0</td>\n",
       "    </tr>\n",
       "    <tr>\n",
       "      <th>5515</th>\n",
       "      <td>02-07-2024</td>\n",
       "      <td>6.5</td>\n",
       "      <td>-0.7</td>\n",
       "      <td>13.7</td>\n",
       "      <td>0</td>\n",
       "    </tr>\n",
       "    <tr>\n",
       "      <th>5516</th>\n",
       "      <td>03-07-2024</td>\n",
       "      <td>6.9</td>\n",
       "      <td>1.5</td>\n",
       "      <td>12.3</td>\n",
       "      <td>0.1</td>\n",
       "    </tr>\n",
       "    <tr>\n",
       "      <th>5517</th>\n",
       "      <td>04-07-2024</td>\n",
       "      <td>4.4</td>\n",
       "      <td>-2.5</td>\n",
       "      <td>11.2</td>\n",
       "      <td>0</td>\n",
       "    </tr>\n",
       "    <tr>\n",
       "      <th>5518</th>\n",
       "      <td>05-07-2024</td>\n",
       "      <td>2.8</td>\n",
       "      <td>-5.4</td>\n",
       "      <td>10.9</td>\n",
       "      <td>0</td>\n",
       "    </tr>\n",
       "    <tr>\n",
       "      <th>5519</th>\n",
       "      <td>06-07-2024</td>\n",
       "      <td>3.5</td>\n",
       "      <td>-4</td>\n",
       "      <td>11</td>\n",
       "      <td>0</td>\n",
       "    </tr>\n",
       "    <tr>\n",
       "      <th>5520</th>\n",
       "      <td>07-07-2024</td>\n",
       "      <td>-2.4</td>\n",
       "      <td>-5.9</td>\n",
       "      <td>1.2</td>\n",
       "      <td>0</td>\n",
       "    </tr>\n",
       "  </tbody>\n",
       "</table>\n",
       "</div>"
      ],
      "text/plain": [
       "            time t_med t_min t_max p_acum\n",
       "5511  28-06-2024   6.9   1.8    12      0\n",
       "5512  29-06-2024   7.5   1.1  13.9      0\n",
       "5513  30-06-2024   5.5  -2.7  13.7    0.1\n",
       "5514  01-07-2024     7  -2.4  16.5      0\n",
       "5515  02-07-2024   6.5  -0.7  13.7      0\n",
       "5516  03-07-2024   6.9   1.5  12.3    0.1\n",
       "5517  04-07-2024   4.4  -2.5  11.2      0\n",
       "5518  05-07-2024   2.8  -5.4  10.9      0\n",
       "5519  06-07-2024   3.5    -4    11      0\n",
       "5520  07-07-2024  -2.4  -5.9   1.2      0"
      ]
     },
     "execution_count": 595,
     "metadata": {},
     "output_type": "execute_result"
    }
   ],
   "source": [
    "df.tail(10)"
   ]
  },
  {
   "cell_type": "markdown",
   "id": "55a694d5-22bb-4458-9c30-9eb4a57625c1",
   "metadata": {},
   "source": [
    "## Repair data type:"
   ]
  },
  {
   "cell_type": "code",
   "execution_count": 598,
   "id": "ec2117d7-41b5-4e28-af6c-03d42411d1fd",
   "metadata": {},
   "outputs": [
    {
     "name": "stdout",
     "output_type": "stream",
     "text": [
      "<class 'pandas.core.frame.DataFrame'>\n",
      "Index: 1831 entries, 3485 to 5520\n",
      "Data columns (total 5 columns):\n",
      " #   Column  Non-Null Count  Dtype \n",
      "---  ------  --------------  ----- \n",
      " 0   time    1831 non-null   object\n",
      " 1   t_med   1831 non-null   object\n",
      " 2   t_min   1831 non-null   object\n",
      " 3   t_max   1831 non-null   object\n",
      " 4   p_acum  1831 non-null   object\n",
      "dtypes: object(5)\n",
      "memory usage: 85.8+ KB\n"
     ]
    }
   ],
   "source": [
    "df.info()"
   ]
  },
  {
   "cell_type": "markdown",
   "id": "9a8f7395-a028-430e-85a1-baa9c85c18cb",
   "metadata": {},
   "source": [
    "### Datatime type"
   ]
  },
  {
   "cell_type": "code",
   "execution_count": 600,
   "id": "cc52b592-4fa8-4d7d-91e0-298ca0e2e011",
   "metadata": {},
   "outputs": [],
   "source": [
    "df[\"time\"]=pd.to_datetime(df[\"time\"],dayfirst=True)"
   ]
  },
  {
   "cell_type": "markdown",
   "id": "428b402d-90dc-4d2e-b077-4f783ee34a1d",
   "metadata": {},
   "source": [
    "### Numeric type"
   ]
  },
  {
   "cell_type": "code",
   "execution_count": 613,
   "id": "76a913fc-8e9d-41f6-9fea-e9eb23186dcf",
   "metadata": {},
   "outputs": [
    {
     "data": {
      "text/plain": [
       "Index(['time', 't_med', 't_min', 't_max', 'p_acum'], dtype='object')"
      ]
     },
     "execution_count": 613,
     "metadata": {},
     "output_type": "execute_result"
    }
   ],
   "source": [
    "df.columns"
   ]
  },
  {
   "cell_type": "code",
   "execution_count": 615,
   "id": "e1969fa7-6802-4408-b955-3920cc682bad",
   "metadata": {},
   "outputs": [],
   "source": [
    "df[\"t_med\"]= pd.to_numeric(df[\"t_med\"])\n",
    "df['t_min']= pd.to_numeric(df['t_min'])\n",
    "df['t_max']= pd.to_numeric(df['t_max'])\n",
    "df['p_acum']= pd.to_numeric(df['p_acum'])"
   ]
  },
  {
   "cell_type": "code",
   "execution_count": 617,
   "id": "726dd7b1-66d6-4fcd-9624-552c8c349f11",
   "metadata": {},
   "outputs": [
    {
     "name": "stdout",
     "output_type": "stream",
     "text": [
      "<class 'pandas.core.frame.DataFrame'>\n",
      "Index: 1831 entries, 3485 to 5520\n",
      "Data columns (total 5 columns):\n",
      " #   Column  Non-Null Count  Dtype         \n",
      "---  ------  --------------  -----         \n",
      " 0   time    1831 non-null   datetime64[ns]\n",
      " 1   t_med   1831 non-null   float64       \n",
      " 2   t_min   1831 non-null   float64       \n",
      " 3   t_max   1831 non-null   float64       \n",
      " 4   p_acum  1831 non-null   float64       \n",
      "dtypes: datetime64[ns](1), float64(4)\n",
      "memory usage: 85.8 KB\n"
     ]
    }
   ],
   "source": [
    "df.info()"
   ]
  },
  {
   "cell_type": "markdown",
   "id": "00a37c04-d231-4749-bc3a-6a115123d6c1",
   "metadata": {},
   "source": [
    "## First view of clean data:"
   ]
  },
  {
   "cell_type": "code",
   "execution_count": 619,
   "id": "01fffc40-fabc-4d2f-86eb-fb5fd0c4df13",
   "metadata": {},
   "outputs": [
    {
     "data": {
      "text/html": [
       "<div>\n",
       "<style scoped>\n",
       "    .dataframe tbody tr th:only-of-type {\n",
       "        vertical-align: middle;\n",
       "    }\n",
       "\n",
       "    .dataframe tbody tr th {\n",
       "        vertical-align: top;\n",
       "    }\n",
       "\n",
       "    .dataframe thead th {\n",
       "        text-align: right;\n",
       "    }\n",
       "</style>\n",
       "<table border=\"1\" class=\"dataframe\">\n",
       "  <thead>\n",
       "    <tr style=\"text-align: right;\">\n",
       "      <th></th>\n",
       "      <th>time</th>\n",
       "      <th>t_med</th>\n",
       "      <th>t_min</th>\n",
       "      <th>t_max</th>\n",
       "      <th>p_acum</th>\n",
       "    </tr>\n",
       "  </thead>\n",
       "  <tbody>\n",
       "    <tr>\n",
       "      <th>count</th>\n",
       "      <td>1831</td>\n",
       "      <td>1831.000000</td>\n",
       "      <td>1831.000000</td>\n",
       "      <td>1831.000000</td>\n",
       "      <td>1831.000000</td>\n",
       "    </tr>\n",
       "    <tr>\n",
       "      <th>mean</th>\n",
       "      <td>2021-10-29 06:17:29.918077696</td>\n",
       "      <td>13.483452</td>\n",
       "      <td>6.320262</td>\n",
       "      <td>20.644566</td>\n",
       "      <td>1.829164</td>\n",
       "    </tr>\n",
       "    <tr>\n",
       "      <th>min</th>\n",
       "      <td>2018-12-11 00:00:00</td>\n",
       "      <td>-2.400000</td>\n",
       "      <td>-6.400000</td>\n",
       "      <td>0.000000</td>\n",
       "      <td>0.000000</td>\n",
       "    </tr>\n",
       "    <tr>\n",
       "      <th>25%</th>\n",
       "      <td>2020-07-09 12:00:00</td>\n",
       "      <td>9.500000</td>\n",
       "      <td>3.400000</td>\n",
       "      <td>14.200000</td>\n",
       "      <td>0.000000</td>\n",
       "    </tr>\n",
       "    <tr>\n",
       "      <th>50%</th>\n",
       "      <td>2021-10-22 00:00:00</td>\n",
       "      <td>13.300000</td>\n",
       "      <td>6.800000</td>\n",
       "      <td>20.300000</td>\n",
       "      <td>0.000000</td>\n",
       "    </tr>\n",
       "    <tr>\n",
       "      <th>75%</th>\n",
       "      <td>2023-03-21 12:00:00</td>\n",
       "      <td>17.950000</td>\n",
       "      <td>9.550000</td>\n",
       "      <td>27.350000</td>\n",
       "      <td>0.100000</td>\n",
       "    </tr>\n",
       "    <tr>\n",
       "      <th>max</th>\n",
       "      <td>2024-07-07 00:00:00</td>\n",
       "      <td>24.600000</td>\n",
       "      <td>16.800000</td>\n",
       "      <td>35.600000</td>\n",
       "      <td>140.400000</td>\n",
       "    </tr>\n",
       "    <tr>\n",
       "      <th>std</th>\n",
       "      <td>NaN</td>\n",
       "      <td>5.175490</td>\n",
       "      <td>4.176629</td>\n",
       "      <td>7.347633</td>\n",
       "      <td>7.222336</td>\n",
       "    </tr>\n",
       "  </tbody>\n",
       "</table>\n",
       "</div>"
      ],
      "text/plain": [
       "                                time        t_med        t_min        t_max  \\\n",
       "count                           1831  1831.000000  1831.000000  1831.000000   \n",
       "mean   2021-10-29 06:17:29.918077696    13.483452     6.320262    20.644566   \n",
       "min              2018-12-11 00:00:00    -2.400000    -6.400000     0.000000   \n",
       "25%              2020-07-09 12:00:00     9.500000     3.400000    14.200000   \n",
       "50%              2021-10-22 00:00:00    13.300000     6.800000    20.300000   \n",
       "75%              2023-03-21 12:00:00    17.950000     9.550000    27.350000   \n",
       "max              2024-07-07 00:00:00    24.600000    16.800000    35.600000   \n",
       "std                              NaN     5.175490     4.176629     7.347633   \n",
       "\n",
       "            p_acum  \n",
       "count  1831.000000  \n",
       "mean      1.829164  \n",
       "min       0.000000  \n",
       "25%       0.000000  \n",
       "50%       0.000000  \n",
       "75%       0.100000  \n",
       "max     140.400000  \n",
       "std       7.222336  "
      ]
     },
     "execution_count": 619,
     "metadata": {},
     "output_type": "execute_result"
    }
   ],
   "source": [
    "df.describe()"
   ]
  },
  {
   "cell_type": "code",
   "execution_count": 621,
   "id": "470d92f1-dc93-4ae1-bf79-336b4d1469f0",
   "metadata": {},
   "outputs": [
    {
     "data": {
      "text/plain": [
       "array([[<Axes: title={'center': 't_med'}>,\n",
       "        <Axes: title={'center': 't_min'}>],\n",
       "       [<Axes: title={'center': 't_max'}>,\n",
       "        <Axes: title={'center': 'p_acum'}>]], dtype=object)"
      ]
     },
     "execution_count": 621,
     "metadata": {},
     "output_type": "execute_result"
    },
    {
     "data": {
      "image/png": "[encoded data removed]",
      "text/plain": [
       "<Figure size 640x480 with 4 Axes>"
      ]
     },
     "metadata": {},
     "output_type": "display_data"
    }
   ],
   "source": [
    "df.set_index(\"time\").hist()"
   ]
  },
  {
   "cell_type": "code",
   "execution_count": 623,
   "id": "254eae1b-3413-44df-87cc-251cd401db2d",
   "metadata": {},
   "outputs": [
    {
     "data": {
      "text/plain": [
       "<Axes: xlabel='time'>"
      ]
     },
     "execution_count": 623,
     "metadata": {},
     "output_type": "execute_result"
    },
    {
     "data": {
      "image/png": "[encoded data removed]",
      "text/plain": [
       "<Figure size 640x480 with 1 Axes>"
      ]
     },
     "metadata": {},
     "output_type": "display_data"
    }
   ],
   "source": [
    "df.set_index(\"time\").resample(\"M\").mean().plot()"
   ]
  },
  {
   "cell_type": "markdown",
   "id": "d406a0b4-7371-4ceb-ab40-82e2e1a7407b",
   "metadata": {},
   "source": [
    "## Save clean data:"
   ]
  },
  {
   "cell_type": "code",
   "execution_count": 625,
   "id": "58450e57-8543-4160-a22a-a9cc3c45d947",
   "metadata": {},
   "outputs": [],
   "source": [
    "df.to_csv(\"clean_data/clima_retiro_maule_2019-2024.csv\")"
   ]
  },
  {
   "cell_type": "code",
   "execution_count": null,
   "id": "e78e17af-ce27-4c86-b5b1-229df73e2e9b",
   "metadata": {},
   "outputs": [],
   "source": []
  }
 ],
 "metadata": {
  "kernelspec": {
   "display_name": "Python 3 (ipykernel)",
   "language": "python",
   "name": "python3"
  },
  "language_info": {
   "codemirror_mode": {
    "name": "ipython",
    "version": 3
   },
   "file_extension": ".py",
   "mimetype": "text/x-python",
   "name": "python",
   "nbconvert_exporter": "python",
   "pygments_lexer": "ipython3",
   "version": "3.11.7"
  }
 },
 "nbformat": 4,
 "nbformat_minor": 5
}
